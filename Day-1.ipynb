{
 "cells": [
  {
   "cell_type": "code",
   "execution_count": 6,
   "metadata": {},
   "outputs": [
    {
     "name": "stdout",
     "output_type": "stream",
     "text": [
      "Manikanta\n"
     ]
    }
   ],
   "source": [
    "print(\"Manikanta\")"
   ]
  },
  {
   "cell_type": "markdown",
   "metadata": {},
   "source": [
    "# Heading\n",
    "\n",
    "## Heading1\n",
    "\n",
    "###  Heading2\n",
    "\n",
    "#### Heading3\n",
    "\n",
    "# Bold\n",
    "\n",
    "**Welcome**\n",
    "\n",
    "# Italic\n",
    "\n",
    "*pythonWorkshop*\n"
   ]
  },
  {
   "cell_type": "markdown",
   "metadata": {},
   "source": [
    "# Both Bold & italic\n",
    "\n",
    "***Hello***\n",
    "\n",
    "# Handling images\n",
    "\n",
    "## offline image\n",
    "<img src=\"sample\n",
    "\n",
    "## Online image\n",
    "\n",
    "<img src=\"sample.jpg\">"
   ]
  },
  {
   "cell_type": "markdown",
   "metadata": {},
   "source": [
    "<img src=\"data:image/jpeg;base64,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\">"
   ]
  },
  {
   "cell_type": "markdown",
   "metadata": {},
   "source": [
    "# Bullet points\n",
    "\n",
    "+ programming\n",
    "    + c\n",
    "    - java\n",
    "    * python\n",
    "    \n",
    "- web \n",
    "     + html\n",
    "     - css\n",
    "     * js\n",
    "\n",
    "* socialweb\n",
    "     + facebook\n",
    "     - titter\n",
    "     * instagram\n",
    "     \n",
    "     \n",
    "# order list\n",
    "\n",
    "1. Bootstrap\n",
    "\n",
    "100. Jquery\n",
    "\n",
    "500. Ajax\n",
    "\n",
    "100. Angularjs\n",
    "\n",
    "\n",
    "# unorder list\n",
    "\n",
    "+ Django\n",
    "\n",
    "- Flask\n",
    "\n",
    "3. Bottle\n",
    " \n",
    "- Cherrypy"
   ]
  },
  {
   "cell_type": "markdown",
   "metadata": {},
   "source": [
    "# Introduction To Python\n",
    "\n",
    "# History of Python\n",
    "\n",
    "# Keywords or Reseverkey\n",
    "\n",
    "# Variables Decleration\n",
    "\n",
    "# Operators in python\n",
    "\n",
    "# Comments in python\n",
    "\n",
    "# Controls flow Statements"
   ]
  },
  {
   "cell_type": "markdown",
   "metadata": {},
   "source": [
    "# Introduction To Python\n",
    "   + Highlevel\n",
    "   + object oriented programming\n",
    "   + Interpeted\n",
    "   + dynamic\n",
    "   + Multipurpose"
   ]
  },
  {
   "cell_type": "code",
   "execution_count": 4,
   "metadata": {},
   "outputs": [
    {
     "data": {
      "text/plain": [
       "int"
      ]
     },
     "execution_count": 4,
     "metadata": {},
     "output_type": "execute_result"
    }
   ],
   "source": [
    "a=10\n",
    "type (a)"
   ]
  },
  {
   "cell_type": "code",
   "execution_count": 5,
   "metadata": {},
   "outputs": [
    {
     "data": {
      "text/plain": [
       "str"
      ]
     },
     "execution_count": 5,
     "metadata": {},
     "output_type": "execute_result"
    }
   ],
   "source": [
    "a=10\n",
    "b=10.\n",
    "c=\"hello\"\n",
    "type(c)"
   ]
  },
  {
   "cell_type": "markdown",
   "metadata": {},
   "source": [
    "# History of python\n",
    "\n",
    "  + In 1980's started implimantion of python\n",
    "  + In 1991 released 0.9.0 version\n",
    "  + In 1994 released 1.0 version with feature of Ananymous like Lambda,map,Filter Reduce\n",
    "  + In 2000 again repulished 2.0 version with fearure \n",
    "\n"
   ]
  },
  {
   "cell_type": "code",
   "execution_count": 11,
   "metadata": {},
   "outputs": [
    {
     "data": {
      "text/plain": [
       "['__all__',\n",
       " '__builtins__',\n",
       " '__cached__',\n",
       " '__doc__',\n",
       " '__file__',\n",
       " '__loader__',\n",
       " '__name__',\n",
       " '__package__',\n",
       " '__spec__',\n",
       " 'iskeyword',\n",
       " 'kwlist']"
      ]
     },
     "execution_count": 11,
     "metadata": {},
     "output_type": "execute_result"
    }
   ],
   "source": [
    "# Keywords or Reserved words\n",
    "import keyword\n",
    "dir(keyword)"
   ]
  },
  {
   "cell_type": "code",
   "execution_count": 12,
   "metadata": {},
   "outputs": [
    {
     "data": {
      "text/plain": [
       "['False',\n",
       " 'None',\n",
       " 'True',\n",
       " 'and',\n",
       " 'as',\n",
       " 'assert',\n",
       " 'async',\n",
       " 'await',\n",
       " 'break',\n",
       " 'class',\n",
       " 'continue',\n",
       " 'def',\n",
       " 'del',\n",
       " 'elif',\n",
       " 'else',\n",
       " 'except',\n",
       " 'finally',\n",
       " 'for',\n",
       " 'from',\n",
       " 'global',\n",
       " 'if',\n",
       " 'import',\n",
       " 'in',\n",
       " 'is',\n",
       " 'lambda',\n",
       " 'nonlocal',\n",
       " 'not',\n",
       " 'or',\n",
       " 'pass',\n",
       " 'raise',\n",
       " 'return',\n",
       " 'try',\n",
       " 'while',\n",
       " 'with',\n",
       " 'yield']"
      ]
     },
     "execution_count": 12,
     "metadata": {},
     "output_type": "execute_result"
    }
   ],
   "source": [
    "keyword.iskeyword('is')\n",
    "keyword.iskeyword('iss')\n",
    "keyword.kwlist"
   ]
  },
  {
   "cell_type": "code",
   "execution_count": 16,
   "metadata": {},
   "outputs": [
    {
     "name": "stdout",
     "output_type": "stream",
     "text": [
      "10\n",
      "100\n"
     ]
    }
   ],
   "source": [
    "# variable Decleration\n",
    "a=10\n",
    "#1b=100\n",
    "b1=100\n",
    "print(a)\n",
    "#print(1b)\n",
    "print(b1)"
   ]
  },
  {
   "cell_type": "code",
   "execution_count": 17,
   "metadata": {},
   "outputs": [
    {
     "name": "stdout",
     "output_type": "stream",
     "text": [
      "10\n",
      "10\n",
      "10\n",
      "10\n"
     ]
    }
   ],
   "source": [
    "# How to store sigle valu multiple variables\n",
    "\n",
    "a=b=c=d=10\n",
    "print(a)\n",
    "print(b)\n",
    "print(c)\n",
    "print(d)\n"
   ]
  },
  {
   "cell_type": "code",
   "execution_count": 18,
   "metadata": {},
   "outputs": [
    {
     "name": "stdout",
     "output_type": "stream",
     "text": [
      "10\n",
      "20\n",
      "30\n",
      "40\n"
     ]
    }
   ],
   "source": [
    "# How to multiple value in multiple variables\n",
    "a,b,c,d=10,20,30,40\n",
    "print(a)\n",
    "print(b)\n",
    "print(c)\n",
    "print(d)\n"
   ]
  },
  {
   "cell_type": "code",
   "execution_count": null,
   "metadata": {},
   "outputs": [],
   "source": [
    "# Operators\n",
    "\n",
    "1. Arthematic Operator(+,-,*,/,%,//,**)\n",
    "2. Relational or COmparsion Operator(<,>,<=,>=,==,!=)"
   ]
  }
 ],
 "metadata": {
  "kernelspec": {
   "display_name": "Python 3",
   "language": "python",
   "name": "python3"
  },
  "language_info": {
   "codemirror_mode": {
    "name": "ipython",
    "version": 3
   },
   "file_extension": ".py",
   "mimetype": "text/x-python",
   "name": "python",
   "nbconvert_exporter": "python",
   "pygments_lexer": "ipython3",
   "version": "3.8.3"
  }
 },
 "nbformat": 4,
 "nbformat_minor": 4
}
